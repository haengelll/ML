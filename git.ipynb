{
 "cells": [
  {
   "cell_type": "markdown",
   "metadata": {},
   "source": [
    "#### git init --> git 초기화시키기\n",
    "#### git add . --> 파일 추가하기\n",
    "#### git commit . --> 변경된 내용 수정하기\n",
    "\n",
    "#### .gitignore --> 뻬고 싶은 파일&폴더 등록"
   ]
  },
  {
   "cell_type": "markdown",
   "metadata": {},
   "source": []
  },
  {
   "cell_type": "markdown",
   "metadata": {},
   "source": []
  },
  {
   "cell_type": "markdown",
   "metadata": {},
   "source": []
  }
 ],
 "metadata": {
  "kernelspec": {
   "display_name": "Python 3.10.6 64-bit",
   "language": "python",
   "name": "python3"
  },
  "language_info": {
   "name": "python",
   "version": "3.10.6"
  },
  "orig_nbformat": 4,
  "vscode": {
   "interpreter": {
    "hash": "47588a3850b92a15dad958dac736ad5c8ea0d8bbad34b05dc7eef037fef8180a"
   }
  }
 },
 "nbformat": 4,
 "nbformat_minor": 2
}
